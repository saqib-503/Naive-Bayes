{
 "cells": [
  {
   "cell_type": "code",
   "execution_count": 66,
   "metadata": {},
   "outputs": [],
   "source": [
    "import pandas as pd\n",
    "from joblib import load , dump\n",
    "from sklearn.model_selection import train_test_split\n",
    "from sklearn.naive_bayes import GaussianNB\n",
    "from sklearn.ensemble import RandomForestClassifier , RandomForestRegressor"
   ]
  },
  {
   "cell_type": "code",
   "execution_count": 67,
   "metadata": {},
   "outputs": [
    {
     "data": {
      "text/plain": [
       "Index(['Temperature', 'Humidity', 'Wind Speed', 'Precipitation (%)',\n",
       "       'Cloud Cover', 'Atmospheric Pressure', 'UV Index', 'Season',\n",
       "       'Visibility (km)', 'Location', 'Weather Type'],\n",
       "      dtype='object')"
      ]
     },
     "execution_count": 67,
     "metadata": {},
     "output_type": "execute_result"
    }
   ],
   "source": [
    "df = pd.read_csv('weather_classification_data_incsv.csv')\n",
    "df.columns\n"
   ]
  },
  {
   "cell_type": "code",
   "execution_count": 68,
   "metadata": {},
   "outputs": [
    {
     "name": "stderr",
     "output_type": "stream",
     "text": [
      "C:\\Users\\SAQIB\\AppData\\Local\\Temp\\ipykernel_19744\\2404985533.py:2: FutureWarning: Downcasting behavior in `replace` is deprecated and will be removed in a future version. To retain the old behavior, explicitly call `result.infer_objects(copy=False)`. To opt-in to the future behavior, set `pd.set_option('future.no_silent_downcasting', True)`\n",
      "  df['Weather Type']=df['Weather Type'].replace({'Rainy': 1, 'Cloudy': 2, 'Sunny': 3, 'Snowy': 4})\n"
     ]
    },
    {
     "data": {
      "text/html": [
       "<div>\n",
       "<style scoped>\n",
       "    .dataframe tbody tr th:only-of-type {\n",
       "        vertical-align: middle;\n",
       "    }\n",
       "\n",
       "    .dataframe tbody tr th {\n",
       "        vertical-align: top;\n",
       "    }\n",
       "\n",
       "    .dataframe thead th {\n",
       "        text-align: right;\n",
       "    }\n",
       "</style>\n",
       "<table border=\"1\" class=\"dataframe\">\n",
       "  <thead>\n",
       "    <tr style=\"text-align: right;\">\n",
       "      <th></th>\n",
       "      <th>Weather Type</th>\n",
       "    </tr>\n",
       "  </thead>\n",
       "  <tbody>\n",
       "    <tr>\n",
       "      <th>0</th>\n",
       "      <td>1</td>\n",
       "    </tr>\n",
       "    <tr>\n",
       "      <th>1</th>\n",
       "      <td>2</td>\n",
       "    </tr>\n",
       "    <tr>\n",
       "      <th>2</th>\n",
       "      <td>3</td>\n",
       "    </tr>\n",
       "    <tr>\n",
       "      <th>3</th>\n",
       "      <td>3</td>\n",
       "    </tr>\n",
       "    <tr>\n",
       "      <th>4</th>\n",
       "      <td>1</td>\n",
       "    </tr>\n",
       "    <tr>\n",
       "      <th>...</th>\n",
       "      <td>...</td>\n",
       "    </tr>\n",
       "    <tr>\n",
       "      <th>13195</th>\n",
       "      <td>1</td>\n",
       "    </tr>\n",
       "    <tr>\n",
       "      <th>13196</th>\n",
       "      <td>4</td>\n",
       "    </tr>\n",
       "    <tr>\n",
       "      <th>13197</th>\n",
       "      <td>2</td>\n",
       "    </tr>\n",
       "    <tr>\n",
       "      <th>13198</th>\n",
       "      <td>4</td>\n",
       "    </tr>\n",
       "    <tr>\n",
       "      <th>13199</th>\n",
       "      <td>1</td>\n",
       "    </tr>\n",
       "  </tbody>\n",
       "</table>\n",
       "<p>13200 rows × 1 columns</p>\n",
       "</div>"
      ],
      "text/plain": [
       "       Weather Type\n",
       "0                 1\n",
       "1                 2\n",
       "2                 3\n",
       "3                 3\n",
       "4                 1\n",
       "...             ...\n",
       "13195             1\n",
       "13196             4\n",
       "13197             2\n",
       "13198             4\n",
       "13199             1\n",
       "\n",
       "[13200 rows x 1 columns]"
      ]
     },
     "execution_count": 68,
     "metadata": {},
     "output_type": "execute_result"
    }
   ],
   "source": [
    "x= df.drop(columns=['Location', 'Weather Type'])\n",
    "df['Weather Type']=df['Weather Type'].replace({'Rainy': 1, 'Cloudy': 2, 'Sunny': 3, 'Snowy': 4})\n",
    "y = df.drop(columns=['Temperature', 'Humidity', 'Wind Speed', 'Precipitation (%)', 'Cloud Cover', 'Atmospheric Pressure', 'UV Index', 'Season', 'Visibility (km)', 'Location'])\n",
    "y"
   ]
  },
  {
   "cell_type": "code",
   "execution_count": 69,
   "metadata": {},
   "outputs": [
    {
     "name": "stderr",
     "output_type": "stream",
     "text": [
      "C:\\Users\\SAQIB\\AppData\\Local\\Temp\\ipykernel_19744\\2171347382.py:1: FutureWarning: A value is trying to be set on a copy of a DataFrame or Series through chained assignment using an inplace method.\n",
      "The behavior will change in pandas 3.0. This inplace method will never work because the intermediate object on which we are setting values always behaves as a copy.\n",
      "\n",
      "For example, when doing 'df[col].method(value, inplace=True)', try using 'df.method({col: value}, inplace=True)' or df[col] = df[col].method(value) instead, to perform the operation inplace on the original object.\n",
      "\n",
      "\n",
      "  x['Season'].replace({'Winter': 1, 'Spring': 2, 'Summer': 3, 'Autumn': 4}, inplace=True)\n",
      "C:\\Users\\SAQIB\\AppData\\Local\\Temp\\ipykernel_19744\\2171347382.py:1: FutureWarning: Downcasting behavior in `replace` is deprecated and will be removed in a future version. To retain the old behavior, explicitly call `result.infer_objects(copy=False)`. To opt-in to the future behavior, set `pd.set_option('future.no_silent_downcasting', True)`\n",
      "  x['Season'].replace({'Winter': 1, 'Spring': 2, 'Summer': 3, 'Autumn': 4}, inplace=True)\n",
      "C:\\Users\\SAQIB\\AppData\\Local\\Temp\\ipykernel_19744\\2171347382.py:2: FutureWarning: A value is trying to be set on a copy of a DataFrame or Series through chained assignment using an inplace method.\n",
      "The behavior will change in pandas 3.0. This inplace method will never work because the intermediate object on which we are setting values always behaves as a copy.\n",
      "\n",
      "For example, when doing 'df[col].method(value, inplace=True)', try using 'df.method({col: value}, inplace=True)' or df[col] = df[col].method(value) instead, to perform the operation inplace on the original object.\n",
      "\n",
      "\n",
      "  x['Cloud Cover'].replace({'partly cloudy': 1, 'clear': 2, 'overcast': 3, 'cloudy': 4},  inplace=True)\n",
      "C:\\Users\\SAQIB\\AppData\\Local\\Temp\\ipykernel_19744\\2171347382.py:2: FutureWarning: Downcasting behavior in `replace` is deprecated and will be removed in a future version. To retain the old behavior, explicitly call `result.infer_objects(copy=False)`. To opt-in to the future behavior, set `pd.set_option('future.no_silent_downcasting', True)`\n",
      "  x['Cloud Cover'].replace({'partly cloudy': 1, 'clear': 2, 'overcast': 3, 'cloudy': 4},  inplace=True)\n"
     ]
    },
    {
     "data": {
      "text/plain": [
       "(       Weather Type\n",
       " 0                 1\n",
       " 1                 2\n",
       " 2                 3\n",
       " 3                 3\n",
       " 4                 1\n",
       " ...             ...\n",
       " 13195             1\n",
       " 13196             4\n",
       " 13197             2\n",
       " 13198             4\n",
       " 13199             1\n",
       " \n",
       " [13200 rows x 1 columns],\n",
       "        Temperature  Humidity  Wind Speed  Precipitation (%)  Cloud Cover  \\\n",
       " 0               14        73         9.5                 82            1   \n",
       " 1               39        96         8.5                 71            1   \n",
       " 2               30        64         7.0                 16            2   \n",
       " 3               38        83         1.5                 82            2   \n",
       " 4               27        74        17.0                 66            3   \n",
       " ...            ...       ...         ...                ...          ...   \n",
       " 13195           10        74        14.5                 71            3   \n",
       " 13196           -1        76         3.5                 23            4   \n",
       " 13197           30        77         5.5                 28            3   \n",
       " 13198            3        76        10.0                 94            3   \n",
       " 13199           -5        38         0.0                 92            3   \n",
       " \n",
       "        Atmospheric Pressure  UV Index  Season  Visibility (km)  \n",
       " 0                   1010.82         2       1              3.5  \n",
       " 1                   1011.43         7       2             10.0  \n",
       " 2                   1018.72         5       2              5.5  \n",
       " 3                   1026.25         7       2              1.0  \n",
       " 4                    990.67         1       1              2.5  \n",
       " ...                     ...       ...     ...              ...  \n",
       " 13195               1003.15         1       3              1.0  \n",
       " 13196               1067.23         1       1              6.0  \n",
       " 13197               1012.69         3       4              9.0  \n",
       " 13198                984.27         0       1              2.0  \n",
       " 13199               1015.37         5       4             10.0  \n",
       " \n",
       " [13200 rows x 9 columns])"
      ]
     },
     "execution_count": 69,
     "metadata": {},
     "output_type": "execute_result"
    }
   ],
   "source": [
    "\n",
    "x['Season'].replace({'Winter': 1, 'Spring': 2, 'Summer': 3, 'Autumn': 4}, inplace=True)\n",
    "x['Cloud Cover'].replace({'partly cloudy': 1, 'clear': 2, 'overcast': 3, 'cloudy': 4},  inplace=True)\n",
    "y,x"
   ]
  },
  {
   "cell_type": "code",
   "execution_count": 70,
   "metadata": {},
   "outputs": [],
   "source": [
    "from sklearn.model_selection import train_test_split"
   ]
  },
  {
   "cell_type": "code",
   "execution_count": 71,
   "metadata": {},
   "outputs": [],
   "source": [
    "X_train, X_test, y_train, y_test = train_test_split(x, y, test_size=0.3, random_state=42)"
   ]
  },
  {
   "cell_type": "code",
   "execution_count": 72,
   "metadata": {},
   "outputs": [
    {
     "data": {
      "text/plain": [
       "((9240, 9), (9240, 1), (3960, 9), (3960, 1))"
      ]
     },
     "execution_count": 72,
     "metadata": {},
     "output_type": "execute_result"
    }
   ],
   "source": [
    "X_train.shape, y_train.shape, X_test.shape, y_test.shape"
   ]
  },
  {
   "cell_type": "code",
   "execution_count": null,
   "metadata": {},
   "outputs": [],
   "source": []
  },
  {
   "cell_type": "code",
   "execution_count": 73,
   "metadata": {},
   "outputs": [
    {
     "name": "stderr",
     "output_type": "stream",
     "text": [
      "C:\\Users\\SAQIB\\AppData\\Roaming\\Python\\Python312\\site-packages\\sklearn\\base.py:1473: DataConversionWarning: A column-vector y was passed when a 1d array was expected. Please change the shape of y to (n_samples,), for example using ravel().\n",
      "  return fit_method(estimator, *args, **kwargs)\n"
     ]
    },
    {
     "data": {
      "text/plain": [
       "array([3, 3, 3, ..., 4, 3, 3], dtype=int64)"
      ]
     },
     "execution_count": 73,
     "metadata": {},
     "output_type": "execute_result"
    }
   ],
   "source": [
    "model = RandomForestClassifier()\n",
    "model.fit(X_train, y_train)\n",
    "result = model.predict(X_test)\n",
    "result"
   ]
  },
  {
   "cell_type": "code",
   "execution_count": 74,
   "metadata": {},
   "outputs": [],
   "source": [
    "from sklearn.metrics import classification_report, accuracy_score"
   ]
  },
  {
   "cell_type": "code",
   "execution_count": 75,
   "metadata": {},
   "outputs": [
    {
     "name": "stdout",
     "output_type": "stream",
     "text": [
      "0.9123737373737374\n",
      "              precision    recall  f1-score   support\n",
      "\n",
      "           1       0.91      0.91      0.91       982\n",
      "           2       0.87      0.89      0.88       955\n",
      "           3       0.93      0.90      0.92       990\n",
      "           4       0.93      0.94      0.94      1033\n",
      "\n",
      "    accuracy                           0.91      3960\n",
      "   macro avg       0.91      0.91      0.91      3960\n",
      "weighted avg       0.91      0.91      0.91      3960\n",
      "\n"
     ]
    }
   ],
   "source": [
    "accuracy = accuracy_score(result, y_test)\n",
    "report = classification_report(y_test, result)\n",
    "print(accuracy)\n",
    "print(report)"
   ]
  }
 ],
 "metadata": {
  "kernelspec": {
   "display_name": "Python 3",
   "language": "python",
   "name": "python3"
  },
  "language_info": {
   "codemirror_mode": {
    "name": "ipython",
    "version": 3
   },
   "file_extension": ".py",
   "mimetype": "text/x-python",
   "name": "python",
   "nbconvert_exporter": "python",
   "pygments_lexer": "ipython3",
   "version": "3.12.3"
  }
 },
 "nbformat": 4,
 "nbformat_minor": 2
}
